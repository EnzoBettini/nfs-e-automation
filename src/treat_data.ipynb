{
 "cells": [
  {
   "cell_type": "code",
   "execution_count": null,
   "id": "4ef9f65d",
   "metadata": {},
   "outputs": [],
   "source": [
    "import pandas as pd\n",
    "\n",
    "df = pd.read_csv('../data/input/conf.csv', sep = None, engine='python')\n",
    "\n",
    "colunas_para_excluir = ['MAQ BAN.', 'MAQ CL.', 'SERVIÇO', 'DATA', 'CLIENTE', 'ANIMAL', 'FORMA PGTO'];\n",
    "df = df.drop(columns=colunas_para_excluir);\n",
    "df = df.dropna()\n",
    "\n",
    "colunas = list(df.columns)\n",
    "colunas[0] = 'ID'\n",
    "df.columns = colunas\n",
    "df['ID'] = df['ID'].astype(int)\n",
    "\n",
    "display(df)\n",
    "df.to_csv('../data/input/filtered/filtered_df.csv', index=False)"
   ]
  }
 ],
 "metadata": {
  "kernelspec": {
   "display_name": "Python 3",
   "language": "python",
   "name": "python3"
  },
  "language_info": {
   "codemirror_mode": {
    "name": "ipython",
    "version": 3
   },
   "file_extension": ".py",
   "mimetype": "text/x-python",
   "name": "python",
   "nbconvert_exporter": "python",
   "pygments_lexer": "ipython3",
   "version": "3.12.10"
  }
 },
 "nbformat": 4,
 "nbformat_minor": 5
}
